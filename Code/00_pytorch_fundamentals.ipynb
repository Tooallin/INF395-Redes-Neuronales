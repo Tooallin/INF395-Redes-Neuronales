{
 "cells": [
  {
   "cell_type": "markdown",
   "id": "34d9d111",
   "metadata": {},
   "source": [
    "### 00. PyTorch Fundamentals"
   ]
  },
  {
   "cell_type": "code",
   "execution_count": 2,
   "id": "14029197",
   "metadata": {},
   "outputs": [],
   "source": [
    "import torch\n",
    "import pandas as pd\n",
    "import numpy as np\n",
    "import matplotlib.pyplot as plt"
   ]
  },
  {
   "cell_type": "markdown",
   "id": "ef9a3c2b",
   "metadata": {},
   "source": [
    "#### Introduction to Tensors"
   ]
  },
  {
   "cell_type": "markdown",
   "id": "728f0297",
   "metadata": {},
   "source": [
    "##### Creating Tensors"
   ]
  },
  {
   "cell_type": "markdown",
   "id": "bcec3473",
   "metadata": {},
   "source": [
    "PyTorch Tensors documentation ``https://docs.pytorch.org/docs/stable/tensors.html``"
   ]
  },
  {
   "cell_type": "code",
   "execution_count": 3,
   "id": "144bf127",
   "metadata": {},
   "outputs": [
    {
     "name": "stdout",
     "output_type": "stream",
     "text": [
      "scalar torch.tensor: tensor(7)\n",
      "scalar dimensions: 0\n",
      "scalar value as Python integer: 7\n"
     ]
    }
   ],
   "source": [
    "# scalar torch.tensor\n",
    "scalar = torch.tensor(7)\n",
    "print(\"scalar torch.tensor:\", scalar)\n",
    "\n",
    "# numbes of dimensions of the scalar\n",
    "print(\"scalar dimensions:\", scalar.ndim)\n",
    "\n",
    "# get scalar value back as Python integer\n",
    "print(\"scalar value as Python integer:\", scalar.item())"
   ]
  },
  {
   "cell_type": "code",
   "execution_count": 4,
   "id": "4be17834",
   "metadata": {},
   "outputs": [
    {
     "name": "stdout",
     "output_type": "stream",
     "text": [
      "vector torch.tensor: tensor([7, 7])\n",
      "vector dimensions: 1\n",
      "vector shape: torch.Size([2])\n"
     ]
    }
   ],
   "source": [
    "# vector torch.tensor\n",
    "vector = torch.tensor([7, 7])\n",
    "print(\"vector torch.tensor:\", vector)\n",
    "\n",
    "# numbes of dimensions of the vector\n",
    "print(\"vector dimensions:\", vector.ndim)\n",
    "\n",
    "# get vector shape\n",
    "print(\"vector shape:\", vector.shape)"
   ]
  },
  {
   "cell_type": "code",
   "execution_count": 5,
   "id": "eda5eccf",
   "metadata": {},
   "outputs": [
    {
     "name": "stdout",
     "output_type": "stream",
     "text": [
      "MATRIX torch.tensor:\n",
      "tensor([[ 7,  8],\n",
      "        [ 9, 10]])\n",
      "MATRIX dimensions: 2\n",
      "MATRIX shape: torch.Size([2, 2])\n"
     ]
    }
   ],
   "source": [
    "# MATRIX torch.tensor\n",
    "MATRIX = torch.tensor([[7,8 ], [9, 10]])\n",
    "print(\"MATRIX torch.tensor:\")\n",
    "print(MATRIX)\n",
    "\n",
    "# numbes of dimensions of the MATRIX\n",
    "print(\"MATRIX dimensions:\", MATRIX.ndim)\n",
    "\n",
    "# get MATRIX shape\n",
    "print(\"MATRIX shape:\", MATRIX.shape)"
   ]
  },
  {
   "cell_type": "code",
   "execution_count": 6,
   "id": "1829c532",
   "metadata": {},
   "outputs": [
    {
     "name": "stdout",
     "output_type": "stream",
     "text": [
      "TENSOR torch.tensor:\n",
      "tensor([[[1, 2, 3],\n",
      "         [4, 5, 6],\n",
      "         [7, 8, 9]]])\n",
      "TENSOR dimensions: 3\n",
      "TENSOR shape: torch.Size([1, 3, 3])\n"
     ]
    }
   ],
   "source": [
    "# TENSOR torch.tensor\n",
    "TENSOR = torch.tensor([[[1, 2, 3],\n",
    "\t\t\t\t\t\t[4, 5, 6],\n",
    "\t\t\t\t\t\t[7, 8, 9]]])\n",
    "print(\"TENSOR torch.tensor:\")\n",
    "print(TENSOR)\n",
    "\n",
    "# numbes of dimensions of the TENSOR\n",
    "print(\"TENSOR dimensions:\", TENSOR.ndim)\n",
    "\n",
    "# get TENSOR shape\n",
    "print(\"TENSOR shape:\", TENSOR.shape)"
   ]
  },
  {
   "cell_type": "markdown",
   "id": "4acab694",
   "metadata": {},
   "source": [
    "##### Random Tensors"
   ]
  },
  {
   "cell_type": "markdown",
   "id": "e69d2f4a",
   "metadata": {},
   "source": [
    "PyTorch random Tensors documentation ``https://docs.pytorch.org/docs/stable/generated/torch.rand.html``"
   ]
  },
  {
   "cell_type": "code",
   "execution_count": 11,
   "id": "eb80c280",
   "metadata": {},
   "outputs": [
    {
     "name": "stdout",
     "output_type": "stream",
     "text": [
      "random torch.tensor:\n",
      "tensor([[0.7753, 0.6050, 0.2227, 0.5376],\n",
      "        [0.6754, 0.9862, 0.5066, 0.1368],\n",
      "        [0.7421, 0.9002, 0.6840, 0.5586]])\n",
      "random_tensor dimensions: 2\n",
      "random_tensor shape: torch.Size([3, 4])\n"
     ]
    }
   ],
   "source": [
    "# create a random torch.tensor of shape (3, 4)\n",
    "random_tensor = torch.rand(size=(3, 4))\n",
    "print(\"random torch.tensor:\")\n",
    "print(random_tensor)\n",
    "\n",
    "# numbes of dimensions of the random_tensor\n",
    "print(\"random_tensor dimensions:\", random_tensor.ndim)\n",
    "\n",
    "# get random_tensor shape\n",
    "print(\"random_tensor shape:\", random_tensor.shape)"
   ]
  },
  {
   "cell_type": "code",
   "execution_count": 14,
   "id": "58156c05",
   "metadata": {},
   "outputs": [
    {
     "name": "stdout",
     "output_type": "stream",
     "text": [
      "random_image_size_tensor dimensions: 3\n",
      "random_image_size_tensor shape: torch.Size([224, 224, 3])\n"
     ]
    }
   ],
   "source": [
    "# create a random torch.tensor with similar shape to an image tensor\n",
    "random_image_size_tensor = torch.rand(size=(224, 224, 3))\n",
    "\n",
    "# numbes of dimensions of the random_tensor\n",
    "print(\"random_image_size_tensor dimensions:\", random_image_size_tensor.ndim)\n",
    "\n",
    "# get random_tensor shape\n",
    "print(\"random_image_size_tensor shape:\", random_image_size_tensor.shape)"
   ]
  },
  {
   "cell_type": "markdown",
   "id": "dfb4a869",
   "metadata": {},
   "source": [
    "##### Zeros and Ones Tensors"
   ]
  },
  {
   "cell_type": "code",
   "execution_count": null,
   "id": "b452f664",
   "metadata": {},
   "outputs": [
    {
     "name": "stdout",
     "output_type": "stream",
     "text": [
      "zeros torch.tensor:\n",
      "tensor([[0., 0., 0., 0.],\n",
      "        [0., 0., 0., 0.],\n",
      "        [0., 0., 0., 0.]])\n"
     ]
    }
   ],
   "source": [
    "# create a torch.tensor full of zeros\n",
    "zeros = torch.zeros(size=(3, 4))\n",
    "print(\"zeros torch.tensor:\")\n",
    "print(zeros)"
   ]
  },
  {
   "cell_type": "code",
   "execution_count": 16,
   "id": "fb4cbf6e",
   "metadata": {},
   "outputs": [
    {
     "name": "stdout",
     "output_type": "stream",
     "text": [
      "ones torch.tensor:\n",
      "tensor([[1., 1., 1., 1.],\n",
      "        [1., 1., 1., 1.],\n",
      "        [1., 1., 1., 1.]])\n"
     ]
    }
   ],
   "source": [
    "# create a torch.tensor full of ones\n",
    "ones = torch.ones(size=(3, 4))\n",
    "print(\"ones torch.tensor:\")\n",
    "print(ones)"
   ]
  }
 ],
 "metadata": {
  "kernelspec": {
   "display_name": ".venv",
   "language": "python",
   "name": "python3"
  },
  "language_info": {
   "codemirror_mode": {
    "name": "ipython",
    "version": 3
   },
   "file_extension": ".py",
   "mimetype": "text/x-python",
   "name": "python",
   "nbconvert_exporter": "python",
   "pygments_lexer": "ipython3",
   "version": "3.13.3"
  }
 },
 "nbformat": 4,
 "nbformat_minor": 5
}
